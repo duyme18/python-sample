{
 "cells": [
  {
   "cell_type": "code",
   "execution_count": 1,
   "id": "cc25dbbe",
   "metadata": {},
   "outputs": [
    {
     "name": "stdout",
     "output_type": "stream",
     "text": [
      "Ứng dụng chuyển đổi tiền từ VNĐ sang USD\n",
      "nhập số tiền USD cần đổi sang VND = 125\n",
      "Nhập tỷ giá USD/VND = 22820\n",
      "125 USD = 2852500.0 VND\n"
     ]
    }
   ],
   "source": [
    "print('Ứng dụng chuyển đổi tiền từ VNĐ sang USD')\n",
    "\n",
    "usd = int(input('nhập số tiền USD cần đổi sang VND = '))\n",
    "rate = float(input('Nhập tỷ giá USD/VND = '))\n",
    "vnd = usd * rate\n",
    "\n",
    "print('{usd} USD = {vnd} VND'.format(vnd=vnd, usd=usd))"
   ]
  },
  {
   "cell_type": "code",
   "execution_count": null,
   "id": "6796329d",
   "metadata": {},
   "outputs": [],
   "source": []
  }
 ],
 "metadata": {
  "kernelspec": {
   "display_name": "Python 3 (ipykernel)",
   "language": "python",
   "name": "python3"
  },
  "language_info": {
   "codemirror_mode": {
    "name": "ipython",
    "version": 3
   },
   "file_extension": ".py",
   "mimetype": "text/x-python",
   "name": "python",
   "nbconvert_exporter": "python",
   "pygments_lexer": "ipython3",
   "version": "3.9.7"
  }
 },
 "nbformat": 4,
 "nbformat_minor": 5
}
