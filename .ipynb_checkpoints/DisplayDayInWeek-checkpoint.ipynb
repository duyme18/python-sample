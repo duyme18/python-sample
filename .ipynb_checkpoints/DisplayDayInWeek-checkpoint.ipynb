{
 "cells": [
  {
   "cell_type": "code",
   "execution_count": 1,
   "id": "62981e13",
   "metadata": {},
   "outputs": [
    {
     "name": "stdout",
     "output_type": "stream",
     "text": [
      "nhap ngay trong tuan tu 1 den 7: 8\n",
      "khong phai ngay trong tuan\n"
     ]
    }
   ],
   "source": [
    "day = int(input('nhap ngay trong tuan tu 1 den 7: '))\n",
    "if day == 1:\n",
    "    print('thu 2')\n",
    "elif day == 2:\n",
    "    print('thu 3')\n",
    "elif day == 3:\n",
    "    print('thu 4')  \n",
    "elif day == 4:\n",
    "    print('thu 5')\n",
    "elif day == 5:\n",
    "    print('thu 6')\n",
    "elif day == 7:\n",
    "    print('chu nhat')\n",
    "else:\n",
    "    print('khong phai ngay trong tuan')"
   ]
  }
 ],
 "metadata": {
  "kernelspec": {
   "display_name": "Python 3 (ipykernel)",
   "language": "python",
   "name": "python3"
  },
  "language_info": {
   "codemirror_mode": {
    "name": "ipython",
    "version": 3
   },
   "file_extension": ".py",
   "mimetype": "text/x-python",
   "name": "python",
   "nbconvert_exporter": "python",
   "pygments_lexer": "ipython3",
   "version": "3.9.7"
  }
 },
 "nbformat": 4,
 "nbformat_minor": 5
}
