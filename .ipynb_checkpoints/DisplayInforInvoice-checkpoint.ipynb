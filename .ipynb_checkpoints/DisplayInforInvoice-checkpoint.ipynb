{
 "cells": [
  {
   "cell_type": "code",
   "execution_count": 1,
   "id": "f287b7ff",
   "metadata": {},
   "outputs": [
    {
     "name": "stdout",
     "output_type": "stream",
     "text": [
      "nhap so tien hoa don: 101\n",
      "ban duoc giam gia 25, so tien phai tra: 76\n"
     ]
    }
   ],
   "source": [
    "amountInvoice = int(input('nhap so tien hoa don: '))\n",
    "if amountInvoice < 75:\n",
    "    print('ban khong duoc giam gia, so tien phai tra: {amountInvoice}'.format(amountInvoice=amountInvoice))\n",
    "elif amountInvoice > 75 and amountInvoice <= 100:\n",
    "    amountInvoice = amountInvoice-15\n",
    "    print('ban duoc giam gia 15, so tien phai tra: {amountInvoice}'.format(amountInvoice=amountInvoice))\n",
    "elif amountInvoice > 100 and amountInvoice <= 150:\n",
    "    amountInvoice = amountInvoice-25\n",
    "    print('ban duoc giam gia 25, so tien phai tra: {amountInvoice}'.format(amountInvoice=amountInvoice))\n",
    "else:\n",
    "    amountInvoice = amountInvoice-50\n",
    "    print('ban duoc giam gia 50, so tien phai tra: {amountInvoice}'.format(amountInvoice=amountInvoice))"
   ]
  }
 ],
 "metadata": {
  "kernelspec": {
   "display_name": "Python 3 (ipykernel)",
   "language": "python",
   "name": "python3"
  },
  "language_info": {
   "codemirror_mode": {
    "name": "ipython",
    "version": 3
   },
   "file_extension": ".py",
   "mimetype": "text/x-python",
   "name": "python",
   "nbconvert_exporter": "python",
   "pygments_lexer": "ipython3",
   "version": "3.9.7"
  }
 },
 "nbformat": 4,
 "nbformat_minor": 5
}
