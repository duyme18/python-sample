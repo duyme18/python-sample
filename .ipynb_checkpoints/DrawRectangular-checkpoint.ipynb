{
 "cells": [
  {
   "cell_type": "code",
   "execution_count": 1,
   "id": "b2cad8d8",
   "metadata": {},
   "outputs": [
    {
     "name": "stdout",
     "output_type": "stream",
     "text": [
      "nhap mau hinh chu nhat: red\n",
      "nhap chieu dai hinh chu nhat = 100\n",
      "nhap chieu cao hinh chu nhat = 300\n",
      "chu vi hinh chu nhat co chieu dai 100.0 va chieu rong 300.0 la 800.0\n",
      "dien tich hinh chu nhat co chieu dai 100.0 va chieu rong 300.0 la 30000.0\n"
     ]
    }
   ],
   "source": [
    "import turtle\n",
    "\n",
    "t = turtle.Turtle()\n",
    "\n",
    "color = input('nhap mau hinh chu nhat: ')\n",
    "\n",
    "w = float(input('nhap chieu dai hinh chu nhat = '))\n",
    "h = float(input('nhap chieu cao hinh chu nhat = '))\n",
    "\n",
    "t.hideturtle()\n",
    "t.fillcolor(color)\n",
    "t.begin_fill()\n",
    "t.fd(w)\n",
    "t.rt(90)\n",
    "t.fd(h)\n",
    "t.rt(90)\n",
    "t.fd(w)\n",
    "t.rt(90)\n",
    "t.fd(h)\n",
    "t.end_fill()\n",
    "\n",
    "\n",
    "c = 2 * (w + h)\n",
    "s = w * h\n",
    "\n",
    "print('chu vi hinh chu nhat co chieu dai {w} va chieu rong {h} la {c}'.format(w=w,h=h,c=c))\n",
    "print('dien tich hinh chu nhat co chieu dai {w} va chieu rong {h} la {s}'.format(w=w,h=h,s=s))"
   ]
  },
  {
   "cell_type": "code",
   "execution_count": null,
   "id": "9b682097",
   "metadata": {},
   "outputs": [],
   "source": []
  }
 ],
 "metadata": {
  "kernelspec": {
   "display_name": "Python 3 (ipykernel)",
   "language": "python",
   "name": "python3"
  },
  "language_info": {
   "codemirror_mode": {
    "name": "ipython",
    "version": 3
   },
   "file_extension": ".py",
   "mimetype": "text/x-python",
   "name": "python",
   "nbconvert_exporter": "python",
   "pygments_lexer": "ipython3",
   "version": "3.9.7"
  }
 },
 "nbformat": 4,
 "nbformat_minor": 5
}
