{
 "cells": [
  {
   "cell_type": "code",
   "execution_count": 1,
   "id": "2151d17d",
   "metadata": {},
   "outputs": [],
   "source": [
    "import turtle\n",
    " \n",
    "star = turtle.Turtle()\n",
    " \n",
    "star.goto(100,100)\n",
    "     \n",
    "turtle.done()"
   ]
  },
  {
   "cell_type": "code",
   "execution_count": 3,
   "id": "e9a8563e",
   "metadata": {},
   "outputs": [],
   "source": [
    "import turtle\n",
    " \n",
    "star = turtle.Turtle()\n",
    " \n",
    "star.goto(200,100)\n",
    "     \n",
    "turtle.done()"
   ]
  },
  {
   "cell_type": "code",
   "execution_count": 2,
   "id": "8b7be9f2",
   "metadata": {},
   "outputs": [],
   "source": [
    "import turtle\n",
    " \n",
    "t = turtle.Turtle()\n",
    "t.circle(60)"
   ]
  },
  {
   "cell_type": "code",
   "execution_count": 1,
   "id": "605432de",
   "metadata": {},
   "outputs": [],
   "source": [
    "import turtle\n",
    " \n",
    "star = turtle.Turtle()\n",
    "star.bgcolor(“blue”)"
   ]
  },
  {
   "cell_type": "code",
   "execution_count": null,
   "id": "e807028c",
   "metadata": {},
   "outputs": [],
   "source": []
  },
  {
   "cell_type": "code",
   "execution_count": null,
   "id": "a3b202ec",
   "metadata": {},
   "outputs": [],
   "source": []
  },
  {
   "cell_type": "code",
   "execution_count": null,
   "id": "2e68b684",
   "metadata": {},
   "outputs": [],
   "source": []
  },
  {
   "cell_type": "code",
   "execution_count": null,
   "id": "7ce97b03",
   "metadata": {},
   "outputs": [],
   "source": []
  }
 ],
 "metadata": {
  "kernelspec": {
   "display_name": "Python 3 (ipykernel)",
   "language": "python",
   "name": "python3"
  },
  "language_info": {
   "codemirror_mode": {
    "name": "ipython",
    "version": 3
   },
   "file_extension": ".py",
   "mimetype": "text/x-python",
   "name": "python",
   "nbconvert_exporter": "python",
   "pygments_lexer": "ipython3",
   "version": "3.9.7"
  }
 },
 "nbformat": 4,
 "nbformat_minor": 5
}
