{
 "cells": [
  {
   "cell_type": "code",
   "execution_count": 1,
   "id": "d475de36",
   "metadata": {},
   "outputs": [
    {
     "name": "stdout",
     "output_type": "stream",
     "text": [
      "nhap ban kinh hinh tron = 20\n",
      "ket thuc\n"
     ]
    }
   ],
   "source": [
    "import turtle\n",
    "import random as r\n",
    "\n",
    "t = turtle.Turtle()\n",
    "d = 0\n",
    "\n",
    "t.speed(500)\n",
    "\n",
    "colors = [\"blue\",\"black\",\"brown\",\"red\",\"yellow\",\"green\",\"orange\",\"beige\",\"turquoise\",\"pink\"]\n",
    "size = (int(input('nhap ban kinh hinh tron = ')))\n",
    "while True:\n",
    "    t.pencolor(r.choice(colors))\n",
    "    t.left(10)\n",
    "    t.forward(d)\n",
    "    d += 0.1\n",
    "    a = int(d)\n",
    "    if a == size:\n",
    "        print('ket thuc')\n",
    "        break\n",
    "    "
   ]
  }
 ],
 "metadata": {
  "kernelspec": {
   "display_name": "Python 3 (ipykernel)",
   "language": "python",
   "name": "python3"
  },
  "language_info": {
   "codemirror_mode": {
    "name": "ipython",
    "version": 3
   },
   "file_extension": ".py",
   "mimetype": "text/x-python",
   "name": "python",
   "nbconvert_exporter": "python",
   "pygments_lexer": "ipython3",
   "version": "3.9.7"
  }
 },
 "nbformat": 4,
 "nbformat_minor": 5
}
