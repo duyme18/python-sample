{
 "cells": [
  {
   "cell_type": "code",
   "execution_count": 1,
   "id": "a55e2c40",
   "metadata": {},
   "outputs": [
    {
     "name": "stdout",
     "output_type": "stream",
     "text": [
      "input char: duy\n",
      "Width?: 10\n",
      "height?: 20\n",
      "duyduyduyduyduyduyduyduyduyduy\n",
      "duy        duy\n",
      "duy        duy\n",
      "duy        duy\n",
      "duy        duy\n",
      "duy        duy\n",
      "duy        duy\n",
      "duy        duy\n",
      "duy        duy\n",
      "duy        duy\n",
      "duy        duy\n",
      "duy        duy\n",
      "duy        duy\n",
      "duy        duy\n",
      "duy        duy\n",
      "duy        duy\n",
      "duy        duy\n",
      "duy        duy\n",
      "duy        duy\n",
      "duyduyduyduyduyduyduyduyduyduy\n"
     ]
    }
   ],
   "source": [
    "char = input('input char: ')\n",
    "\n",
    "width = int(input('Width?: '))\n",
    "height = int(input('height?: '))\n",
    "\n",
    "for i in range(1, height + 1):\n",
    "    print_str = ''\n",
    "    for j in range(1,width + 1):      \n",
    "        if i == 1 or i == height:\n",
    "            print_str += char\n",
    "        else:\n",
    "            if j == 1 or j == width:\n",
    "                print_str += char\n",
    "            else:\n",
    "                print_str += ' '\n",
    "    print(print_str)\n"
   ]
  }
 ],
 "metadata": {
  "kernelspec": {
   "display_name": "Python 3 (ipykernel)",
   "language": "python",
   "name": "python3"
  },
  "language_info": {
   "codemirror_mode": {
    "name": "ipython",
    "version": 3
   },
   "file_extension": ".py",
   "mimetype": "text/x-python",
   "name": "python",
   "nbconvert_exporter": "python",
   "pygments_lexer": "ipython3",
   "version": "3.9.7"
  }
 },
 "nbformat": 4,
 "nbformat_minor": 5
}
