{
 "cells": [
  {
   "cell_type": "code",
   "execution_count": null,
   "id": "79995666",
   "metadata": {},
   "outputs": [],
   "source": [
    "import turtle\n",
    " \n",
    "star = turtle.Turtle()\n",
    " \n",
    "for i in range(50):\n",
    "    star.forward(50)\n",
    "    star.right(144)\n",
    "     \n",
    "turtle.done()"
   ]
  },
  {
   "cell_type": "code",
   "execution_count": null,
   "id": "ea88000b",
   "metadata": {},
   "outputs": [],
   "source": []
  },
  {
   "cell_type": "code",
   "execution_count": null,
   "id": "14541335",
   "metadata": {},
   "outputs": [],
   "source": []
  },
  {
   "cell_type": "code",
   "execution_count": null,
   "id": "682f159d",
   "metadata": {},
   "outputs": [],
   "source": []
  },
  {
   "cell_type": "code",
   "execution_count": null,
   "id": "f34348ef",
   "metadata": {},
   "outputs": [],
   "source": []
  },
  {
   "cell_type": "code",
   "execution_count": null,
   "id": "835f4d77",
   "metadata": {},
   "outputs": [],
   "source": []
  },
  {
   "cell_type": "code",
   "execution_count": null,
   "id": "50affbc4",
   "metadata": {},
   "outputs": [],
   "source": [
    "import turtle\n",
    " \n",
    "star = turtle.Turtle()\n",
    " \n",
    "for i in range(50):\n",
    "    star.forward(50)\n",
    "    star.right(144)\n",
    "     \n",
    "turtle.done()"
   ]
  }
 ],
 "metadata": {
  "kernelspec": {
   "display_name": "Python 3 (ipykernel)",
   "language": "python",
   "name": "python3"
  },
  "language_info": {
   "codemirror_mode": {
    "name": "ipython",
    "version": 3
   },
   "file_extension": ".py",
   "mimetype": "text/x-python",
   "name": "python",
   "nbconvert_exporter": "python",
   "pygments_lexer": "ipython3",
   "version": "3.9.7"
  }
 },
 "nbformat": 4,
 "nbformat_minor": 5
}
