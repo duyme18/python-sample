{
 "cells": [
  {
   "cell_type": "code",
   "execution_count": 2,
   "id": "38e89019",
   "metadata": {},
   "outputs": [
    {
     "name": "stdout",
     "output_type": "stream",
     "text": [
      "Ứng dụng chuyển đổi tiền từ VNĐ sang USD\n",
      "nhập số tiền cần đổi500000\n",
      "500000 VND = 11560621.149999999 USD\n"
     ]
    }
   ],
   "source": [
    "print('Ứng dụng chuyển đổi tiền từ VNĐ sang USD')\n",
    "vnd = int(input('nhập số tiền cần đổi'))\n",
    "usd = vnd * 23.1212423\n",
    "\n",
    "print('{vnd} VND = {usd} USD'.format(vnd=vnd, usd=usd))"
   ]
  },
  {
   "cell_type": "code",
   "execution_count": null,
   "id": "a44172d5",
   "metadata": {},
   "outputs": [],
   "source": []
  }
 ],
 "metadata": {
  "kernelspec": {
   "display_name": "Python 3 (ipykernel)",
   "language": "python",
   "name": "python3"
  },
  "language_info": {
   "codemirror_mode": {
    "name": "ipython",
    "version": 3
   },
   "file_extension": ".py",
   "mimetype": "text/x-python",
   "name": "python",
   "nbconvert_exporter": "python",
   "pygments_lexer": "ipython3",
   "version": "3.9.7"
  }
 },
 "nbformat": 4,
 "nbformat_minor": 5
}
