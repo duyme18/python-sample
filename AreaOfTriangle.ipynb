{
 "cells": [
  {
   "cell_type": "code",
   "execution_count": 1,
   "id": "f1c9096c",
   "metadata": {},
   "outputs": [
    {
     "name": "stdout",
     "output_type": "stream",
     "text": [
      "nhap do dai canh a = 34.23\n",
      "nhap do dai canh b = 23.54\n",
      "nhap do dai canh c = 12.32\n",
      "Dien tich tam giac la :  86.41459402574557\n"
     ]
    }
   ],
   "source": [
    "import math\n",
    "\n",
    "a = float(input('nhap do dai canh a = '))\n",
    "b = float(input('nhap do dai canh b = '))\n",
    "c = float(input('nhap do dai canh c = '))\n",
    "s = (a+b+c)/2\n",
    "area = math.sqrt(s*(s-a)*(s-b)*(s-c))\n",
    "print(\"Dien tich tam giac la : \", area)\n"
   ]
  },
  {
   "cell_type": "code",
   "execution_count": null,
   "id": "8b7f6205",
   "metadata": {},
   "outputs": [],
   "source": []
  }
 ],
 "metadata": {
  "kernelspec": {
   "display_name": "Python 3 (ipykernel)",
   "language": "python",
   "name": "python3"
  },
  "language_info": {
   "codemirror_mode": {
    "name": "ipython",
    "version": 3
   },
   "file_extension": ".py",
   "mimetype": "text/x-python",
   "name": "python",
   "nbconvert_exporter": "python",
   "pygments_lexer": "ipython3",
   "version": "3.9.7"
  }
 },
 "nbformat": 4,
 "nbformat_minor": 5
}
