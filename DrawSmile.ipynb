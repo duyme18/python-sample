{
 "cells": [
  {
   "cell_type": "code",
   "execution_count": 1,
   "id": "3ab20771",
   "metadata": {},
   "outputs": [
    {
     "ename": "AttributeError",
     "evalue": "'Turtle' object has no attribute 'mainloop'",
     "output_type": "error",
     "traceback": [
      "\u001b[0;31m---------------------------------------------------------------------------\u001b[0m",
      "\u001b[0;31mAttributeError\u001b[0m                            Traceback (most recent call last)",
      "\u001b[0;32m/var/folders/td/7q5c4f892yb848p9cwgv_zjh0000gn/T/ipykernel_41039/2382087258.py\u001b[0m in \u001b[0;36m<module>\u001b[0;34m\u001b[0m\n\u001b[1;32m     50\u001b[0m \u001b[0mt\u001b[0m\u001b[0;34m.\u001b[0m\u001b[0mright\u001b[0m\u001b[0;34m(\u001b[0m\u001b[0;36m90\u001b[0m\u001b[0;34m)\u001b[0m\u001b[0;34m\u001b[0m\u001b[0;34m\u001b[0m\u001b[0m\n\u001b[1;32m     51\u001b[0m \u001b[0mt\u001b[0m\u001b[0;34m.\u001b[0m\u001b[0mcircle\u001b[0m\u001b[0;34m(\u001b[0m\u001b[0;36m100\u001b[0m\u001b[0;34m,\u001b[0m\u001b[0;36m180\u001b[0m\u001b[0;34m)\u001b[0m\u001b[0;34m\u001b[0m\u001b[0;34m\u001b[0m\u001b[0m\n\u001b[0;32m---> 52\u001b[0;31m \u001b[0mt\u001b[0m\u001b[0;34m.\u001b[0m\u001b[0mmainloop\u001b[0m\u001b[0;34m(\u001b[0m\u001b[0;34m)\u001b[0m\u001b[0;34m\u001b[0m\u001b[0;34m\u001b[0m\u001b[0m\n\u001b[0m",
      "\u001b[0;31mAttributeError\u001b[0m: 'Turtle' object has no attribute 'mainloop'"
     ]
    }
   ],
   "source": [
    "import turtle\n",
    "\n",
    "t = turtle.Turtle()\n",
    "t.penup()\n",
    "t.goto(0,-200)\n",
    "t.pendown()\n",
    "\n",
    "# face\n",
    "t.fillcolor('yellow')\n",
    "t.begin_fill()\n",
    "faceSize = 200\n",
    "t.circle(faceSize)\n",
    "t.end_fill()\n",
    "\n",
    "# eyes\n",
    "\n",
    "t.penup()\n",
    "t.goto(-100,50)\n",
    "t.pendown()\n",
    "\n",
    "eyeSize = 17.5\n",
    "t.fillcolor('red')\n",
    "t.begin_fill()\n",
    "t.circle(eyeSize)\n",
    "t.end_fill()\n",
    "\n",
    "t.penup()\n",
    "t.goto(100,50)\n",
    "t.pendown()\n",
    "\n",
    "t.fillcolor('red')\n",
    "t.begin_fill()\n",
    "t.circle(eyeSize)\n",
    "t.end_fill()\n",
    "\n",
    "# nose\n",
    "\n",
    "t.penup ()\n",
    "t.goto(0,50)\n",
    "t.pendown()\n",
    "t.fillcolor('brown')\n",
    "t.begin_fill()\n",
    "t.circle(-70, steps=3)\n",
    "t.end_fill()\n",
    "\n",
    "# smile\n",
    "t.penup()\n",
    "t.goto(-100, -70)\n",
    "t.pendown()\n",
    "t.right(90)\n",
    "t.circle(100,180)\n",
    "t.mainloop()"
   ]
  },
  {
   "cell_type": "code",
   "execution_count": null,
   "id": "544dfc82",
   "metadata": {},
   "outputs": [],
   "source": []
  },
  {
   "cell_type": "code",
   "execution_count": null,
   "id": "de789604",
   "metadata": {},
   "outputs": [],
   "source": []
  }
 ],
 "metadata": {
  "kernelspec": {
   "display_name": "Python 3 (ipykernel)",
   "language": "python",
   "name": "python3"
  },
  "language_info": {
   "codemirror_mode": {
    "name": "ipython",
    "version": 3
   },
   "file_extension": ".py",
   "mimetype": "text/x-python",
   "name": "python",
   "nbconvert_exporter": "python",
   "pygments_lexer": "ipython3",
   "version": "3.9.7"
  }
 },
 "nbformat": 4,
 "nbformat_minor": 5
}
