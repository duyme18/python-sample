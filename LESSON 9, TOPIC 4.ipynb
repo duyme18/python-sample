{
 "cells": [
  {
   "cell_type": "code",
   "execution_count": null,
   "id": "8139e76a",
   "metadata": {},
   "outputs": [],
   "source": [
    "import turtle\n",
    "import random\n",
    "\n",
    "t = turtle.Turtle()\n",
    "t.hideturtle()\n",
    "t.shape('square')\n",
    "t.color('blue')\n",
    "t.pensize(3)\n",
    "t.penup()\n",
    "t.goto(-300,0)\n",
    "t.showturtle()\n",
    "t.pendown()\n",
    "\n",
    "count=0\n",
    "while count < 10:\n",
    "    down = random.randint(20,50)\n",
    "    up = random.randint(20,50)\n",
    "    count+=1\n",
    "    t.pendown()\n",
    "    # rùa tiến về phía trước với giá trị ngẫu\n",
    "    # nhiên ở trên, có để lại nét vẽ\n",
    "    t.forward(down)\n",
    "    t.penup()\n",
    "    # rùa tiến về phía trước với giá trị ngẫu\n",
    "    # nhiên ở trên, không để lại nét vẽ\n",
    "    t.forward(up)\n",
    "turtle.done()"
   ]
  },
  {
   "cell_type": "code",
   "execution_count": null,
   "id": "85ca388f",
   "metadata": {},
   "outputs": [],
   "source": []
  }
 ],
 "metadata": {
  "kernelspec": {
   "display_name": "Python 3 (ipykernel)",
   "language": "python",
   "name": "python3"
  },
  "language_info": {
   "codemirror_mode": {
    "name": "ipython",
    "version": 3
   },
   "file_extension": ".py",
   "mimetype": "text/x-python",
   "name": "python",
   "nbconvert_exporter": "python",
   "pygments_lexer": "ipython3",
   "version": "3.9.7"
  }
 },
 "nbformat": 4,
 "nbformat_minor": 5
}
