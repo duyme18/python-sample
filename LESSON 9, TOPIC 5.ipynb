{
 "cells": [
  {
   "cell_type": "code",
   "execution_count": null,
   "id": "f004ee93",
   "metadata": {},
   "outputs": [],
   "source": [
    "import turtle\n",
    "import random as r\n",
    "\n",
    "t = turtle.Turtle()\n",
    "t.shape(\"turtle\")\n",
    "\n",
    "t.hideturtle()\n",
    "t.penup()\n",
    "t.goto(0,-200)\n",
    "t.pendown()\n",
    "\n",
    "t.circle(200)\n",
    "t.penup()\n",
    "t.goto(0,0)\n",
    "t.pendown()\n",
    "t.showturtle()\n",
    "t.speed(500)\n",
    "count = 0\n",
    "colors = [\"blue\",\"black\",\"brown\",\"red\",\"yellow\",\"green\",\"orange\",\"beige\",\"turquoise\",\"pink\"]\n",
    "   \n",
    "\n",
    "while count<1000:\n",
    "    t.pencolor(r.choice(colors))\n",
    "    right = r.randint(0,360)\n",
    "    color = r.randint(1,255)\n",
    "    t.penup()\n",
    "    t.goto(0,0)\n",
    "    t.pendown()\n",
    "    t.right(right)\n",
    "    t.fd(200)\n",
    "    count+=1\n",
    "\n",
    "turtle.done()"
   ]
  },
  {
   "cell_type": "code",
   "execution_count": null,
   "id": "fe5d32a3",
   "metadata": {},
   "outputs": [],
   "source": []
  }
 ],
 "metadata": {
  "kernelspec": {
   "display_name": "Python 3 (ipykernel)",
   "language": "python",
   "name": "python3"
  },
  "language_info": {
   "codemirror_mode": {
    "name": "ipython",
    "version": 3
   },
   "file_extension": ".py",
   "mimetype": "text/x-python",
   "name": "python",
   "nbconvert_exporter": "python",
   "pygments_lexer": "ipython3",
   "version": "3.9.7"
  }
 },
 "nbformat": 4,
 "nbformat_minor": 5
}
