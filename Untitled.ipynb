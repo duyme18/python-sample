{
 "cells": [
  {
   "cell_type": "code",
   "execution_count": null,
   "id": "640900fd",
   "metadata": {},
   "outputs": [],
   "source": [
    "import turtle\n",
    "import random\n",
    "\n",
    "num = random.uniform(0,3)\n",
    "\n",
    "intNum = int(num)\n",
    "wn = turtle.Screen()\n",
    "wn.bgcolor(\"black\")\n",
    "wn.title('circle')\n",
    "ball = turtle.Turtle()\n",
    "ball.shape('circle')\n",
    "if intNum < 1: \n",
    "    ball.color('green')\n",
    "elif intNum < 2:\n",
    "    ball.color('yellow')\n",
    "elif inNum < 3:\n",
    "    ball.color('red')\n",
    "turtle.done()"
   ]
  }
 ],
 "metadata": {
  "kernelspec": {
   "display_name": "Python 3 (ipykernel)",
   "language": "python",
   "name": "python3"
  },
  "language_info": {
   "codemirror_mode": {
    "name": "ipython",
    "version": 3
   },
   "file_extension": ".py",
   "mimetype": "text/x-python",
   "name": "python",
   "nbconvert_exporter": "python",
   "pygments_lexer": "ipython3",
   "version": "3.9.7"
  }
 },
 "nbformat": 4,
 "nbformat_minor": 5
}
