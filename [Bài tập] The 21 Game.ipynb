{
 "cells": [
  {
   "cell_type": "code",
   "execution_count": null,
   "id": "52b62b3c",
   "metadata": {},
   "outputs": [
    {
     "name": "stdout",
     "output_type": "stream",
     "text": [
      "COMPUTER\n",
      "Số hiện tại: 1.\n",
      "\n",
      "Tới lượt COMPUTER, COMPUTER chọn 2.\n",
      "\n",
      "Số hiện tại: 3.\n",
      "\n",
      "Chọn 1, 2 hoặc 3. Không quá 21. Nếu chọn 21 thì sẽ thua.\n"
     ]
    }
   ],
   "source": [
    "import random as r\n",
    "import time\n",
    "\n",
    "current_number = 1\n",
    "if  r.randint(0,1) == 0:\n",
    "    current_player = 'HUMAN'\n",
    "    print(current_player)\n",
    "else: \n",
    "    current_player = 'COMPUTER'\n",
    "    print(current_player)\n",
    "    \n",
    "while current_number <= 21:\n",
    "    print(\"Số hiện tại: \" + str(current_number) + \".\")\n",
    "    print()\n",
    "    if current_player == \"HUMAN\":\n",
    "        print(\"Chọn 1, 2 hoặc 3. Không quá 21. Nếu chọn 21 thì sẽ thua.\")\n",
    "        player_choice = \"\"\n",
    "        while player_choice not in [\"1\", \"2\", \"3\"]:\n",
    "            player_choice = input(\"Bạn sẽ chọn gì? \")\n",
    "        player_choice = int(player_choice)\n",
    "        current_number = current_number + player_choice\n",
    "        print()\n",
    "        if current_number >= 21:\n",
    "            print(\"Số hiện tại: \" + str(current_number) + \".\")\n",
    "            print()\n",
    "            print(\"Bạn thua!.\")\n",
    "            break\n",
    "        current_player = \"COMPUTER\"\n",
    "    else:\n",
    "        computer_choice = r.randint(1, 3)\n",
    "        current_number = current_number + computer_choice\n",
    "        print(\"Tới lượt COMPUTER, COMPUTER chọn \" + str(computer_choice) + \".\")\n",
    "        print()\n",
    "        time.sleep(1)\n",
    "\n",
    "        if current_number >= 21:\n",
    "            print(\"Số hiện tại: \" + str(current_number) + \".\")\n",
    "            print()\n",
    "            print(\"Bạn thắng!\")\n",
    "            break\n",
    "        current_player = \"HUMAN\"\n",
    "\n",
    "print()\n",
    "play_again = input(\"Bạn muốn chơi lại không?\")\n",
    "if play_again.lower().startswith(\"y\"):\n",
    "    continue\n",
    "else:\n",
    "    print(\"Tạm biệt\")\n",
    "    break"
   ]
  }
 ],
 "metadata": {
  "kernelspec": {
   "display_name": "Python 3 (ipykernel)",
   "language": "python",
   "name": "python3"
  },
  "language_info": {
   "codemirror_mode": {
    "name": "ipython",
    "version": 3
   },
   "file_extension": ".py",
   "mimetype": "text/x-python",
   "name": "python",
   "nbconvert_exporter": "python",
   "pygments_lexer": "ipython3",
   "version": "3.9.7"
  }
 },
 "nbformat": 4,
 "nbformat_minor": 5
}
