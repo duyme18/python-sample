{
 "cells": [
  {
   "cell_type": "code",
   "execution_count": 1,
   "id": "72a405c5",
   "metadata": {},
   "outputs": [
    {
     "name": "stdout",
     "output_type": "stream",
     "text": [
      "nhap chieu cao(met): 1.75\n",
      "nhap can nang: 88\n",
      "25.142857142857142\n",
      "thừa cân\n"
     ]
    }
   ],
   "source": [
    "# Nếu BMI > 40: in ra béo phì cấp độ III\n",
    "# Hoặc nếu 35 <= BMI < 40: in ra béo phì cấp độ II\n",
    "# Hoặc nếu 30 <= BMI < 35: in ra béo phì cấp độ I\n",
    "# Hoặc nếu 25 <= BMI < 30: in ra thừa cân\n",
    "# Hoặc nếu 18.5 <= BMI < 25: in ra bình thường\n",
    "# Hoặc nếu 17 <= BMI < 18.5: in ra gầy cấp độ I\n",
    "# Hoặc nếu 16 <= BMI < 17: in ra gầy cấp độ II\n",
    "# Hoặc BMI < 16: in ra gầy cấp độ III\n",
    "# BMI = cân nặng / (chiều cao ^ 2)\n",
    "chieu_cao = float(input('nhap chieu cao(met): '))\n",
    "can_nang = float(input('nhap can nang: '))\n",
    "\n",
    "bmi = can_nang/(chieu_cao*2)\n",
    "print(bmi)\n",
    "if bmi > 40:\n",
    "    print('béo phì cấp độ III')\n",
    "elif 35 <= bmi < 40:\n",
    "    print('béo phì cấp độ II')\n",
    "elif 30 <= bmi < 35:\n",
    "    print('béo phì cấp độ I')\n",
    "elif 25 <= bmi < 30:\n",
    "    print('thừa cân')\n",
    "elif 18.5 <= bmi < 25:\n",
    "    print('bình thường')\n",
    "elif 16 <= bmi < 17:\n",
    "    print('gầy cấp độ I')\n",
    "elif bmi < 16:\n",
    "    print('gầy cấp độ II')\n",
    "else:\n",
    "    print('gầy cấp độ III')"
   ]
  }
 ],
 "metadata": {
  "kernelspec": {
   "display_name": "Python 3 (ipykernel)",
   "language": "python",
   "name": "python3"
  },
  "language_info": {
   "codemirror_mode": {
    "name": "ipython",
    "version": 3
   },
   "file_extension": ".py",
   "mimetype": "text/x-python",
   "name": "python",
   "nbconvert_exporter": "python",
   "pygments_lexer": "ipython3",
   "version": "3.9.7"
  }
 },
 "nbformat": 4,
 "nbformat_minor": 5
}
