{
 "cells": [
  {
   "cell_type": "code",
   "execution_count": 1,
   "id": "eb7fce56",
   "metadata": {},
   "outputs": [],
   "source": [
    "# import package and making object\n",
    "import turtle\n",
    "screen = turtle.Screen()\n",
    "\n",
    "# method to draw ellipse\n",
    "def draw(rad):\n",
    "\t\n",
    "# rad --> radius for arc\n",
    "\tfor i in range(2):\n",
    "\t\tturtle.circle(rad,90)\n",
    "\t\tturtle.circle(rad//2,90)\n",
    "\n",
    "# Main Section\n",
    "# Set screen size\n",
    "screen.setup(500,500)\n",
    "\n",
    "# Set screen color\n",
    "screen.bgcolor('black')\n",
    "\n",
    "# Colors\n",
    "col= [\"blue\",\"black\",\"brown\",\"red\",\"yellow\",\"green\",\"orange\",\"beige\",\"turquoise\",\"pink\"]\n",
    "\n",
    "\n",
    "# some integers\n",
    "val=10\n",
    "ind=0\n",
    "\n",
    "# turtle speed\n",
    "turtle.speed(100)\n",
    "\n",
    "# loop for multiple ellipse\n",
    "for i in range(36):\n",
    "\t\n",
    "\t# oriented the ellipse at angle = -val\n",
    "\tturtle.seth(-val)\n",
    "\t\n",
    "\t# color of ellipse\n",
    "\tturtle.color(col[ind])\n",
    "\t\n",
    "\t# to access different color\n",
    "\tif ind==5:\n",
    "\t\tind=0\n",
    "\telse:\n",
    "\t\tind+=1\n",
    "\t\n",
    "\t# calling method\n",
    "\tdraw(80)\n",
    "\t\n",
    "\t# orientation change\n",
    "\tval+=10\n",
    "\n",
    "# for hiding the turtle\n",
    "turtle.hideturtle()\n"
   ]
  }
 ],
 "metadata": {
  "kernelspec": {
   "display_name": "Python 3 (ipykernel)",
   "language": "python",
   "name": "python3"
  },
  "language_info": {
   "codemirror_mode": {
    "name": "ipython",
    "version": 3
   },
   "file_extension": ".py",
   "mimetype": "text/x-python",
   "name": "python",
   "nbconvert_exporter": "python",
   "pygments_lexer": "ipython3",
   "version": "3.9.7"
  }
 },
 "nbformat": 4,
 "nbformat_minor": 5
}
