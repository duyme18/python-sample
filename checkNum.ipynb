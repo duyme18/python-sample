{
 "cells": [
  {
   "cell_type": "code",
   "execution_count": 1,
   "id": "16e52ac5",
   "metadata": {},
   "outputs": [
    {
     "name": "stdout",
     "output_type": "stream",
     "text": [
      "nhap vao so nguyen bat ky: 56\n",
      "Even\n"
     ]
    }
   ],
   "source": [
    "num = int(input('nhap vao so nguyen bat ky: '))\n",
    "msg = \"Even\" if num %2 == 0 else \"Odd\"\n",
    "print(msg)"
   ]
  },
  {
   "cell_type": "code",
   "execution_count": null,
   "id": "a4166a20",
   "metadata": {},
   "outputs": [],
   "source": []
  }
 ],
 "metadata": {
  "kernelspec": {
   "display_name": "Python 3 (ipykernel)",
   "language": "python",
   "name": "python3"
  },
  "language_info": {
   "codemirror_mode": {
    "name": "ipython",
    "version": 3
   },
   "file_extension": ".py",
   "mimetype": "text/x-python",
   "name": "python",
   "nbconvert_exporter": "python",
   "pygments_lexer": "ipython3",
   "version": "3.9.7"
  }
 },
 "nbformat": 4,
 "nbformat_minor": 5
}
