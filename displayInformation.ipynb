{
 "cells": [
  {
   "cell_type": "code",
   "execution_count": 1,
   "id": "4abc9d89",
   "metadata": {},
   "outputs": [
    {
     "name": "stdout",
     "output_type": "stream",
     "text": [
      "Hello CodeGym Online\n",
      "Tôi là Hoàng Đức Duy\n"
     ]
    }
   ],
   "source": [
    "print(\"Hello CodeGym Online\")\n",
    "print(\"Tôi là Hoàng Đức Duy\")"
   ]
  },
  {
   "cell_type": "code",
   "execution_count": null,
   "id": "16898f57",
   "metadata": {},
   "outputs": [],
   "source": []
  }
 ],
 "metadata": {
  "kernelspec": {
   "display_name": "Python 3 (ipykernel)",
   "language": "python",
   "name": "python3"
  },
  "language_info": {
   "codemirror_mode": {
    "name": "ipython",
    "version": 3
   },
   "file_extension": ".py",
   "mimetype": "text/x-python",
   "name": "python",
   "nbconvert_exporter": "python",
   "pygments_lexer": "ipython3",
   "version": "3.9.7"
  }
 },
 "nbformat": 4,
 "nbformat_minor": 5
}
